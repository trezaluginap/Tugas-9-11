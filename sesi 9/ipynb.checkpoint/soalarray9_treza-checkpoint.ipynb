{
 "cells": [
  {
   "cell_type": "markdown",
   "metadata": {
    "id": "vGfCRcshyOmp"
   },
   "source": [
    "<h1>Array</h1><br>\n",
    "<ol>\n",
    "    <li>Array adalah tipe data yang berisi kumpulan dari beberapa nilai.</li>\n",
    "    <li>Nilai yang terdapat dalam array disebut dengan elemen, dan pada setiap elemen memiliki nomor pengenal yang dikenal dengan istilah indeks</li>\n",
    "    <li>Penomoran indeks di dalam array dimulai dari angka 0, sehingga elemen pertama berada di index 0, elemen kedua berada di indeks 1, sehingga dapat disimpulkan bahwa elemen yang ke n berada pada indeks n-1</li>\n",
    "</ol>\n",
    "\n",
    "<h3>Ilustrasi Array</h3>\n",
    "<img src=\"https://galuhratna.alza.web.id/blog/wp-content/uploads/2020/03/array1D-300x82.png\"></img>\n",
    "\n",
    "<h2>Operasi Array</h2><hr>"
   ]
  },
  {
   "cell_type": "markdown",
   "metadata": {
    "id": "FrjTqVM8yOm6"
   },
   "source": [
    "<h3>1. Membuat Array</h3>"
   ]
  },
  {
   "cell_type": "code",
   "execution_count": 35,
   "metadata": {
    "colab": {
     "base_uri": "https://localhost:8080/"
    },
    "executionInfo": {
     "elapsed": 458,
     "status": "ok",
     "timestamp": 1670823390333,
     "user": {
      "displayName": "Lupusmlbb",
      "userId": "18339227963392725119"
     },
     "user_tz": 480
    },
    "id": "8TxkP8HgyOm8",
    "outputId": "3f800ef7-25bc-454f-865d-6d6837159e58"
   },
   "outputs": [
    {
     "name": "stdout",
     "output_type": "stream",
     "text": [
      "array('i', [10, 20, 30, 40, 90, 80])\n"
     ]
    }
   ],
   "source": [
    "#import library array sebagai alias\n",
    "\n",
    "import array as arr\n",
    "arr_int = arr.array('i',[10,20,30,40,90,80])\n",
    "\n",
    "print(arr_int)"
   ]
  },
  {
   "cell_type": "markdown",
   "metadata": {
    "id": "nl5iHPFdyOpi"
   },
   "source": [
    "<h3>2. Mengakses Array</h3>\n"
   ]
  },
  {
   "cell_type": "code",
   "execution_count": 36,
   "metadata": {
    "colab": {
     "base_uri": "https://localhost:8080/"
    },
    "executionInfo": {
     "elapsed": 376,
     "status": "ok",
     "timestamp": 1670823569532,
     "user": {
      "displayName": "Lupusmlbb",
      "userId": "18339227963392725119"
     },
     "user_tz": 480
    },
    "id": "xKWQUUTUyOpk",
    "outputId": "dc00c561-ef4b-40a4-ef00-c17bdf85b8bb",
    "scrolled": true
   },
   "outputs": [
    {
     "name": "stdout",
     "output_type": "stream",
     "text": [
      "elemen array terakhir: 80\n",
      "10\n",
      "20\n",
      "30\n",
      "40\n",
      "90\n",
      "80\n",
      "--------------------------------\n",
      "10\n",
      "30\n",
      "60\n",
      "100\n",
      "190\n",
      "270\n",
      "nilai rata-rata: 45.0\n"
     ]
    }
   ],
   "source": [
    "pjg_array = len(arr_int)\n",
    "print(\"elemen array terakhir:\",arr_int[pjg_array-1])\n",
    "\n",
    "#Looping mengakses nilai elemen tanpa mengetahui indeks\n",
    "for i in arr_int:\n",
    "    print(i)\n",
    "print('--------------------------------')  \n",
    "#looping mengakses nilai elemen dengan paramter indeks\n",
    "total = 0\n",
    "for j in range(pjg_array):\n",
    "    total = total + arr_int[j]\n",
    "    print(total)\n",
    "rata2 = total / pjg_array\n",
    "print(f\"nilai rata-rata: {rata2}\")"
   ]
  },
  {
   "cell_type": "markdown",
   "metadata": {
    "id": "qQRmc5gxyOpn"
   },
   "source": [
    "<h3>3. Menambah Array</h3> "
   ]
  },
  {
   "cell_type": "code",
   "execution_count": 37,
   "metadata": {
    "colab": {
     "base_uri": "https://localhost:8080/"
    },
    "executionInfo": {
     "elapsed": 535,
     "status": "ok",
     "timestamp": 1670823578772,
     "user": {
      "displayName": "Lupusmlbb",
      "userId": "18339227963392725119"
     },
     "user_tz": 480
    },
    "id": "MYG4w5VzyOqK",
    "outputId": "c844dec1-306b-47e9-95b6-36b9656bccd9"
   },
   "outputs": [
    {
     "name": "stdout",
     "output_type": "stream",
     "text": [
      "array('i', [10, 20, 30, 66, 40, 90, 80])\n"
     ]
    }
   ],
   "source": [
    "posisi = 3\n",
    "nilai = 66\n",
    "arr_int.insert(posisi,nilai)\n",
    "print(arr_int)"
   ]
  },
  {
   "cell_type": "markdown",
   "metadata": {
    "id": "BDG8iHwjyOql"
   },
   "source": [
    "<h3>4. Mengupdate Array</h3>"
   ]
  },
  {
   "cell_type": "code",
   "execution_count": 38,
   "metadata": {
    "colab": {
     "base_uri": "https://localhost:8080/"
    },
    "executionInfo": {
     "elapsed": 362,
     "status": "ok",
     "timestamp": 1670823581876,
     "user": {
      "displayName": "Lupusmlbb",
      "userId": "18339227963392725119"
     },
     "user_tz": 480
    },
    "id": "fcBMLJImyOqn",
    "outputId": "16bb7dc3-fd07-4bea-80cd-7c6a686b2be4"
   },
   "outputs": [
    {
     "name": "stdout",
     "output_type": "stream",
     "text": [
      "array('i', [80, 20, 30, 66, 40, 90, 80])\n"
     ]
    }
   ],
   "source": [
    "arr_int[0] = 80\n",
    "print(arr_int)"
   ]
  },
  {
   "cell_type": "markdown",
   "metadata": {
    "id": "NPJTiul6yOqz"
   },
   "source": [
    "<h3>5. Menghapus Array</h3>"
   ]
  },
  {
   "cell_type": "code",
   "execution_count": 39,
   "metadata": {
    "colab": {
     "base_uri": "https://localhost:8080/"
    },
    "executionInfo": {
     "elapsed": 386,
     "status": "ok",
     "timestamp": 1670823594634,
     "user": {
      "displayName": "Lupusmlbb",
      "userId": "18339227963392725119"
     },
     "user_tz": 480
    },
    "id": "bEIEWDgSyOq2",
    "outputId": "ab0d402a-a2e0-49a9-a3ea-80645d19c5d6"
   },
   "outputs": [
    {
     "name": "stdout",
     "output_type": "stream",
     "text": [
      "array('i', [20, 30, 66, 40, 90, 80])\n",
      "array('i', [20, 30, 66, 40, 90])\n"
     ]
    }
   ],
   "source": [
    "arr_int.remove(80)\n",
    "print(arr_int)\n",
    "\n",
    "arr_int.pop()\n",
    "print(arr_int)"
   ]
  },
  {
   "cell_type": "markdown",
   "metadata": {
    "id": "k6S1ujPZyOq4"
   },
   "source": [
    "<h3>6. Mencari Array</h3>"
   ]
  },
  {
   "cell_type": "code",
   "execution_count": 40,
   "metadata": {
    "colab": {
     "base_uri": "https://localhost:8080/"
    },
    "executionInfo": {
     "elapsed": 412,
     "status": "ok",
     "timestamp": 1670823597434,
     "user": {
      "displayName": "Lupusmlbb",
      "userId": "18339227963392725119"
     },
     "user_tz": 480
    },
    "id": "hDiPpYHvyOq6",
    "outputId": "0a76c603-adbb-4a19-f871-a20f1bd428d6"
   },
   "outputs": [
    {
     "data": {
      "text/plain": [
       "1"
      ]
     },
     "execution_count": 40,
     "metadata": {},
     "output_type": "execute_result"
    }
   ],
   "source": [
    "arr_int.index(30)"
   ]
  },
  {
   "cell_type": "markdown",
   "metadata": {
    "id": "OFJOK-bzyOq7"
   },
   "source": [
    "<h3>Latihan Soal</h3>"
   ]
  },
  {
   "cell_type": "markdown",
   "metadata": {
    "id": "2weEVyrTyOsO"
   },
   "source": [
    "1. Sebuah kamar kost di daerah cisaat terdiri dari 1 lantai dan 10 kamar. Pemilik kost menandai kamar dengan tanda 'O' jika ada penghuninya dan tanda 'X' jika masih kosong. Reperesentasikan permasalahan tersebut dimana kamar yang sudah terisi adalah kamar 2,4,7 dan 9. "
   ]
  },
  {
   "cell_type": "code",
   "execution_count": 41,
   "metadata": {
    "colab": {
     "base_uri": "https://localhost:8080/"
    },
    "executionInfo": {
     "elapsed": 392,
     "status": "ok",
     "timestamp": 1670827225158,
     "user": {
      "displayName": "Lupusmlbb",
      "userId": "18339227963392725119"
     },
     "user_tz": 480
    },
    "id": "60pfIbP-yOsV",
    "outputId": "7ce92bfd-054a-4e45-e4f9-8cbf221a0566"
   },
   "outputs": [
    {
     "name": "stdout",
     "output_type": "stream",
     "text": [
      "array('u', 'XOXOXXOXOX')\n"
     ]
    }
   ],
   "source": [
    "#import library array\n",
    "\n",
    "kamar = arr.array('u',[])\n",
    "\n",
    "for i in range(10):\n",
    "    if i+1==2 or i+1==4 or i+1==7 or i+1==9:\n",
    "        kamar.insert(i+1, 'O')\n",
    "    else:\n",
    "        kamar.insert(i+1, 'X')\n",
    "print(kamar)"
   ]
  },
  {
   "cell_type": "markdown",
   "metadata": {
    "id": "7cwxR3_vyOsW"
   },
   "source": [
    "2. Berdasarkan soal 1, hitunglah berapa jumlah kamar yang masih kosong dan sebutkan kamar nomor berapa saja!"
   ]
  },
  {
   "cell_type": "code",
   "execution_count": 47,
   "metadata": {
    "id": "D7XmGiohyOsY"
   },
   "outputs": [
    {
     "name": "stdout",
     "output_type": "stream",
     "text": [
      "kamar yang masih kosong sebanyak 6\n",
      "bilangan prima\n"
     ]
    }
   ],
   "source": [
    "#your code here\n",
    "total = 0\n",
    "for i in kamar:\n",
    "    if i =='X':\n",
    "        total = total + 1\n",
    "        \n",
    "print(f\"kamar yang masih kosong sebanyak {total}\")\n",
    "\n",
    "#mengecek bilangan prima atau bukan \n",
    "\n",
    "bilangan = 19\n",
    "jml_0 = 0\n",
    "for i in range (bilangan):\n",
    "    sisa = bilangan % (i+1)\n",
    "    if sisa == 0:\n",
    "        jml_0 = jml_0 + 1\n",
    "if jml_0==2:\n",
    "    print(\"bilangan prima\")\n",
    "else:\n",
    "    print(\"bukan prima\")\n",
    "    "
   ]
  },
  {
   "cell_type": "markdown",
   "metadata": {
    "id": "hO-Br96SyOsa"
   },
   "source": [
    "3. Pada tahun 2022 pemilik kost ingin mengubah fungsi kamar kost menjadi rumah pribadi, sehingga kamar kost tersebut dirobohkan. Representasikan permasalahan tersebut kedalam fungsi array"
   ]
  },
  {
   "cell_type": "code",
   "execution_count": 48,
   "metadata": {
    "id": "0gK5229AyOsc"
   },
   "outputs": [
    {
     "name": "stdout",
     "output_type": "stream",
     "text": [
      "array('u', 'XOXOXXOXOX')\n",
      "array('u')\n"
     ]
    }
   ],
   "source": [
    "#Your code here\n",
    "\n",
    "print(kamar)\n",
    "\n",
    "for i in range(len(kamar)):\n",
    "    kamar.pop()\n",
    "print(kamar)\n"
   ]
  },
  {
   "cell_type": "markdown",
   "metadata": {
    "id": "b35s-26NyOsc"
   },
   "source": [
    "4. Seorang penjual tahu menata raknya seperti berikut ini: <br>\n",
    "[10,10,10,10,10,10,10,10,10,10]<br>\n",
    "Setiap 1 tahu dijual dengan harga 1_000. Buatlah implementasi program yang mempunyai input uang dan jumlah tahu yang akan dibeli. Contoh input outputnya seperti berikut ini:<br>\n",
    "input uang : 100_000<br>\n",
    "jumlah tahu yang akan dibeli: 20<br>\n",
    "\n",
    "Output:<br>\n",
    "Total harga yang dibeli : 20_000<br>\n",
    "Uang Kembali : 80_000<br>\n",
    "Sisa Tahu : 80<br>\n",
    "Posisi Akhir Rak : [0,0,10,10,10,10,10,10,10,10]"
   ]
  },
  {
   "cell_type": "code",
   "execution_count": null,
   "metadata": {
    "id": "eFHTWNlZyOsd"
   },
   "outputs": [],
   "source": []
  }
 ],
 "metadata": {
  "colab": {
   "provenance": []
  },
  "kernelspec": {
   "display_name": "Python 3 (ipykernel)",
   "language": "python",
   "name": "python3"
  },
  "language_info": {
   "codemirror_mode": {
    "name": "ipython",
    "version": 3
   },
   "file_extension": ".py",
   "mimetype": "text/x-python",
   "name": "python",
   "nbconvert_exporter": "python",
   "pygments_lexer": "ipython3",
   "version": "3.9.12"
  }
 },
 "nbformat": 4,
 "nbformat_minor": 1
}
